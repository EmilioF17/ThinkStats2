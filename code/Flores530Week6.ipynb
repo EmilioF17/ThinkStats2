{
 "cells": [
  {
   "cell_type": "markdown",
   "id": "0be6cfca-2424-4eb9-861f-b40baa744ad7",
   "metadata": {},
   "source": [
    "# Emilio Flores - Week 6 - Chapter 7 & 8"
   ]
  },
  {
   "cell_type": "markdown",
   "id": "2c75fa3a-12c8-426d-8bec-aed70c1711bf",
   "metadata": {},
   "source": [
    "## Chapter 7 - Exercise 7.1\n",
    "Using data from the NSFG, make a scatter plot of birth weight versus mother's age. Plot\n",
    "percentiles of birth weight versus mother's age. Compute Pearson's and Spearman's cor-\n",
    "relations. How would you characterize the relationship between these variables?"
   ]
  },
  {
   "cell_type": "code",
   "execution_count": 27,
   "id": "6a663fe4-58e2-47cc-8f5a-c0967e00a0ed",
   "metadata": {},
   "outputs": [],
   "source": [
    "import pandas as pd\n",
    "import numpy as np\n",
    "import thinkstats2\n",
    "import thinkplot\n",
    "\n",
    "def SpearmanCorr(xs, ys):\n",
    "    xs = pd.Series(xs)\n",
    "    ys = pd.Series(ys)\n",
    "    return xs.corr(ys, method='spearman')\n",
    "\n",
    "def Corr(xs, ys):\n",
    "    xs = np.asarray(xs)\n",
    "    ys = np.asarray(ys)\n",
    "\n",
    "    meanx, varx = thinkstats2.MeanVar(xs)\n",
    "    meany, vary = thinkstats2.MeanVar(ys)\n",
    "\n",
    "    corr = Cov(xs, ys, meanx, meany) / np.sqrt(varx * vary)\n",
    "    return corr\n",
    "\n",
    "def Cov(xs, ys, meanx=None, meany=None):\n",
    "    xs = np.asarray(xs)\n",
    "    ys = np.asarray(ys)\n",
    "\n",
    "    if meanx is None:\n",
    "        meanx = np.mean(xs)\n",
    "    if meany is None:\n",
    "        meany = np.mean(ys)\n",
    "\n",
    "    cov = np.dot(xs-meanx, ys-meany) / len(xs)\n",
    "    return cov"
   ]
  },
  {
   "cell_type": "code",
   "execution_count": 9,
   "id": "e45730cd-05d8-4684-9cbd-b8f0dd68ad5c",
   "metadata": {},
   "outputs": [],
   "source": [
    "import first\n",
    "\n",
    "live, firsts, others = first.MakeFrames()\n",
    "live = live.dropna(subset=['agepreg', 'totalwgt_lb'])"
   ]
  },
  {
   "cell_type": "code",
   "execution_count": 29,
   "id": "7882016c-f4f9-4e32-aa66-afaa0f561a1f",
   "metadata": {},
   "outputs": [
    {
     "name": "stdout",
     "output_type": "stream",
     "text": [
      "Corr 0.06883397035410908\n",
      "SpearmanCorr 0.09461004109658226\n"
     ]
    }
   ],
   "source": [
    "ages = live.agepreg\n",
    "weights = live.totalwgt_lb\n",
    "print('Corr', Corr(ages, weights))\n",
    "print('SpearmanCorr', SpearmanCorr(ages, weights))"
   ]
  },
  {
   "cell_type": "code",
   "execution_count": null,
   "id": "8a84834b-6ecf-4d44-be79-a7bb901a3aea",
   "metadata": {},
   "outputs": [],
   "source": []
  },
  {
   "cell_type": "code",
   "execution_count": null,
   "id": "69bf06d7-23f7-4081-b51e-1b05721939a6",
   "metadata": {},
   "outputs": [],
   "source": []
  },
  {
   "cell_type": "markdown",
   "id": "75c2b2bf-4888-4bf5-b997-458ea77b5164",
   "metadata": {},
   "source": [
    "## Chapter 8 - Exercise 8.1"
   ]
  },
  {
   "cell_type": "code",
   "execution_count": null,
   "id": "7814051d-3985-4109-8b99-5a86a340d001",
   "metadata": {},
   "outputs": [],
   "source": []
  },
  {
   "cell_type": "markdown",
   "id": "3c04c747-c96c-47b0-a5f6-94b10ce3d2a8",
   "metadata": {},
   "source": [
    "## Chapter 8 - Exercise 8.2"
   ]
  },
  {
   "cell_type": "code",
   "execution_count": null,
   "id": "ee3a0f32-383c-42f8-be8e-ca79633041ac",
   "metadata": {},
   "outputs": [],
   "source": []
  },
  {
   "cell_type": "code",
   "execution_count": null,
   "id": "fdf4aa71-878d-4d7d-8d18-c3bc2943615e",
   "metadata": {},
   "outputs": [],
   "source": []
  }
 ],
 "metadata": {
  "kernelspec": {
   "display_name": "Python 3 (ipykernel)",
   "language": "python",
   "name": "python3"
  },
  "language_info": {
   "codemirror_mode": {
    "name": "ipython",
    "version": 3
   },
   "file_extension": ".py",
   "mimetype": "text/x-python",
   "name": "python",
   "nbconvert_exporter": "python",
   "pygments_lexer": "ipython3",
   "version": "3.11.7"
  }
 },
 "nbformat": 4,
 "nbformat_minor": 5
}
