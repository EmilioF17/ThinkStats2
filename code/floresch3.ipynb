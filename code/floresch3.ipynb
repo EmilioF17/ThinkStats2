{
 "cells": [
  {
   "cell_type": "code",
   "execution_count": 1,
   "id": "cc1aea6e-081a-41b1-9e8f-060a0b65c0c6",
   "metadata": {},
   "outputs": [
    {
     "ename": "TypeError",
     "evalue": "main() takes 1 positional argument but 3 were given",
     "output_type": "error",
     "traceback": [
      "\u001b[1;31m---------------------------------------------------------------------------\u001b[0m",
      "\u001b[1;31mTypeError\u001b[0m                                 Traceback (most recent call last)",
      "Cell \u001b[1;32mIn[1], line 169\u001b[0m\n\u001b[0;32m    167\u001b[0m \u001b[38;5;28;01mif\u001b[39;00m \u001b[38;5;18m__name__\u001b[39m \u001b[38;5;241m==\u001b[39m \u001b[38;5;124m'\u001b[39m\u001b[38;5;124m__main__\u001b[39m\u001b[38;5;124m'\u001b[39m:\n\u001b[0;32m    168\u001b[0m     \u001b[38;5;28;01mimport\u001b[39;00m \u001b[38;5;21;01msys\u001b[39;00m\n\u001b[1;32m--> 169\u001b[0m     main(\u001b[38;5;241m*\u001b[39msys\u001b[38;5;241m.\u001b[39margv)\n",
      "\u001b[1;31mTypeError\u001b[0m: main() takes 1 positional argument but 3 were given"
     ]
    }
   ],
   "source": [
    "\"\"\"This file contains code used in \"Think Stats\",\n",
    "by Allen B. Downey, available from greenteapress.com\n",
    "\n",
    "Copyright 2014 Allen B. Downey\n",
    "License: GNU GPLv3 http://www.gnu.org/licenses/gpl.html\n",
    "\"\"\"\n",
    "\n",
    "from __future__ import print_function\n",
    "\n",
    "import math\n",
    "import numpy as np\n",
    "\n",
    "import nsfg\n",
    "import first\n",
    "import thinkstats2\n",
    "import thinkplot\n",
    "\n",
    "\n",
    "def MakeHists(live):\n",
    "    \"\"\"Plot Hists for live births\n",
    "\n",
    "    live: DataFrame\n",
    "    others: DataFrame\n",
    "    \"\"\"\n",
    "    hist = thinkstats2.Hist(np.floor(live.agepreg), label='agepreg')\n",
    "    thinkplot.PrePlot(2, cols=2)\n",
    "\n",
    "    thinkplot.SubPlot(1)\n",
    "    thinkplot.Hist(hist)\n",
    "    thinkplot.Config(xlabel='years',\n",
    "                     ylabel='frequency',\n",
    "                     axis=[0, 45, 0, 700])\n",
    "\n",
    "    thinkplot.SubPlot(2)\n",
    "    thinkplot.Pmf(hist)\n",
    "\n",
    "    thinkplot.Save(root='probability_agepreg_hist', \n",
    "                   xlabel='years',\n",
    "                   axis=[0, 45, 0, 700])\n",
    "\n",
    "\n",
    "def MakeFigures(firsts, others):\n",
    "    \"\"\"Plot Pmfs of pregnancy length.\n",
    "\n",
    "    firsts: DataFrame\n",
    "    others: DataFrame\n",
    "    \"\"\"\n",
    "    # plot the PMFs\n",
    "    first_pmf = thinkstats2.Pmf(firsts.prglngth, label='first')\n",
    "    other_pmf = thinkstats2.Pmf(others.prglngth, label='other')\n",
    "    width = 0.45\n",
    "\n",
    "    thinkplot.PrePlot(2, cols=2)\n",
    "    thinkplot.Hist(first_pmf, align='right', width=width)\n",
    "    thinkplot.Hist(other_pmf, align='left', width=width)\n",
    "    thinkplot.Config(xlabel='weeks',\n",
    "                     ylabel='probability',\n",
    "                     axis=[27, 46, 0, 0.6])\n",
    "\n",
    "    thinkplot.PrePlot(2)\n",
    "    thinkplot.SubPlot(2)\n",
    "    thinkplot.Pmfs([first_pmf, other_pmf])\n",
    "    thinkplot.Save(root='probability_nsfg_pmf',\n",
    "                   xlabel='weeks',\n",
    "                   axis=[27, 46, 0, 0.6])\n",
    "\n",
    "    # plot the differences in the PMFs\n",
    "    weeks = range(35, 46)\n",
    "    diffs = []\n",
    "    for week in weeks:\n",
    "        p1 = first_pmf.Prob(week)\n",
    "        p2 = other_pmf.Prob(week)\n",
    "        diff = 100 * (p1 - p2)\n",
    "        diffs.append(diff)\n",
    "\n",
    "    thinkplot.Bar(weeks, diffs)\n",
    "    thinkplot.Save(root='probability_nsfg_diffs',\n",
    "                   title='Difference in PMFs',\n",
    "                   xlabel='weeks',\n",
    "                   ylabel='percentage points',\n",
    "                   legend=False)\n",
    "\n",
    "\n",
    "def BiasPmf(pmf, label=''):\n",
    "    \"\"\"Returns the Pmf with oversampling proportional to value.\n",
    "\n",
    "    If pmf is the distribution of true values, the result is the\n",
    "    distribution that would be seen if values are oversampled in\n",
    "    proportion to their values; for example, if you ask students\n",
    "    how big their classes are, large classes are oversampled in\n",
    "    proportion to their size.\n",
    "\n",
    "    Args:\n",
    "      pmf: Pmf object.\n",
    "      label: string label for the new Pmf.\n",
    "\n",
    "     Returns:\n",
    "       Pmf object\n",
    "    \"\"\"\n",
    "    new_pmf = pmf.Copy(label=label)\n",
    "\n",
    "    for x, p in pmf.Items():\n",
    "        new_pmf.Mult(x, x)\n",
    "        \n",
    "    new_pmf.Normalize()\n",
    "    return new_pmf\n",
    "\n",
    "\n",
    "def UnbiasPmf(pmf, label=''):\n",
    "    \"\"\"Returns the Pmf with oversampling proportional to 1/value.\n",
    "\n",
    "    Args:\n",
    "      pmf: Pmf object.\n",
    "      label: string label for the new Pmf.\n",
    "\n",
    "     Returns:\n",
    "       Pmf object\n",
    "    \"\"\"\n",
    "    new_pmf = pmf.Copy(label=label)\n",
    "\n",
    "    for x, p in pmf.Items():\n",
    "        new_pmf.Mult(x, 1.0/x)\n",
    "        \n",
    "    new_pmf.Normalize()\n",
    "    return new_pmf\n",
    "\n",
    "\n",
    "def ClassSizes():\n",
    "    \"\"\"Generate PMFs of observed and actual class size.\n",
    "    \"\"\"\n",
    "    # start with the actual distribution of class sizes from the book\n",
    "    d = { 7: 8, 12: 8, 17: 14, 22: 4, \n",
    "          27: 6, 32: 12, 37: 8, 42: 3, 47: 2 }\n",
    "\n",
    "    # form the pmf\n",
    "    pmf = thinkstats2.Pmf(d, label='actual')\n",
    "    print('mean', pmf.Mean())\n",
    "    print('var', pmf.Var())\n",
    "    \n",
    "    # compute the biased pmf\n",
    "    biased_pmf = BiasPmf(pmf, label='observed')\n",
    "    print('mean', biased_pmf.Mean())\n",
    "    print('var', biased_pmf.Var())\n",
    "\n",
    "    # unbias the biased pmf\n",
    "    unbiased_pmf = UnbiasPmf(biased_pmf, label='unbiased')\n",
    "    print('mean', unbiased_pmf.Mean())\n",
    "    print('var', unbiased_pmf.Var())\n",
    "\n",
    "    # plot the Pmfs\n",
    "    thinkplot.PrePlot(2)\n",
    "    thinkplot.Pmfs([pmf, biased_pmf])\n",
    "    thinkplot.Save(root='class_size1',\n",
    "                   xlabel='class size',\n",
    "                   ylabel='PMF',\n",
    "                   axis=[0, 52, 0, 0.27])\n",
    "    \n",
    " \n",
    "def main(script):\n",
    "    live, firsts, others = first.MakeFrames()\n",
    "    MakeFigures(firsts, others)\n",
    "    MakeHists(live)\n",
    "\n",
    "    ClassSizes()\n",
    "\n",
    "\n",
    "if __name__ == '__main__':\n",
    "    import sys\n",
    "    main(*sys.argv)\n",
    "\n",
    "\n"
   ]
  },
  {
   "cell_type": "code",
   "execution_count": 3,
   "id": "fb197a61-db36-4a02-a76b-81d3c0a1e32a",
   "metadata": {},
   "outputs": [
    {
     "ename": "NameError",
     "evalue": "name 'hist' is not defined",
     "output_type": "error",
     "traceback": [
      "\u001b[1;31m---------------------------------------------------------------------------\u001b[0m",
      "\u001b[1;31mNameError\u001b[0m                                 Traceback (most recent call last)",
      "Cell \u001b[1;32mIn[3], line 1\u001b[0m\n\u001b[1;32m----> 1\u001b[0m n \u001b[38;5;241m=\u001b[39m hist\u001b[38;5;241m.\u001b[39mtotal()\n\u001b[0;32m      2\u001b[0m d \u001b[38;5;241m=\u001b[39m {}\n\u001b[0;32m      3\u001b[0m \u001b[38;5;28;01mfor\u001b[39;00m x, freq \u001b[38;5;129;01min\u001b[39;00m hist\u001b[38;5;241m.\u001b[39mItems():\n",
      "\u001b[1;31mNameError\u001b[0m: name 'hist' is not defined"
     ]
    }
   ],
   "source": [
    "n = hist.total()\n",
    "d = {}\n",
    "for x, freq in hist.Items():\n",
    "    d[x] = freq / n"
   ]
  },
  {
   "cell_type": "code",
   "execution_count": 5,
   "id": "ff6cf738-60e7-4f45-9d12-57acc2e4b3db",
   "metadata": {},
   "outputs": [
    {
     "data": {
      "text/plain": [
       "Pmf({1: 0.2, 2: 0.2, 3: 0.2, 4: 0.2, 5: 0.2})"
      ]
     },
     "execution_count": 5,
     "metadata": {},
     "output_type": "execute_result"
    }
   ],
   "source": [
    "import thinkstats2\n",
    "pmf = thinkstats2.Pmf([1, 2, 3, 4, 5])\n",
    "pmf"
   ]
  },
  {
   "cell_type": "code",
   "execution_count": 7,
   "id": "c1552aba-8e8d-4874-b562-cc0f19ccb2f4",
   "metadata": {},
   "outputs": [
    {
     "data": {
      "text/plain": [
       "0.2"
      ]
     },
     "execution_count": 7,
     "metadata": {},
     "output_type": "execute_result"
    }
   ],
   "source": [
    "pmf.Prob(2)"
   ]
  },
  {
   "cell_type": "code",
   "execution_count": 11,
   "id": "fc9e817d-413b-40a2-a949-6fd6bc5e557d",
   "metadata": {},
   "outputs": [
    {
     "data": {
      "text/plain": [
       "0.4"
      ]
     },
     "execution_count": 11,
     "metadata": {},
     "output_type": "execute_result"
    }
   ],
   "source": [
    "pmf.Incr(2, 0.2)\n",
    "pmf.Prob(2)"
   ]
  },
  {
   "cell_type": "code",
   "execution_count": 13,
   "id": "adc975f3-2555-4374-bb26-d3d80c8c6bfd",
   "metadata": {},
   "outputs": [
    {
     "data": {
      "text/plain": [
       "1.2"
      ]
     },
     "execution_count": 13,
     "metadata": {},
     "output_type": "execute_result"
    }
   ],
   "source": [
    "pmf.Total()"
   ]
  },
  {
   "cell_type": "code",
   "execution_count": 17,
   "id": "ece1dafb-1e18-4137-8bb4-0f06f8f3a9fe",
   "metadata": {},
   "outputs": [
    {
     "data": {
      "text/plain": [
       "0.9999999999999999"
      ]
     },
     "execution_count": 17,
     "metadata": {},
     "output_type": "execute_result"
    }
   ],
   "source": [
    "pmf.Normalize()\n",
    "pmf.Total()"
   ]
  },
  {
   "cell_type": "code",
   "execution_count": null,
   "id": "030cd25b-2560-4532-a154-ca887661f8f2",
   "metadata": {},
   "outputs": [],
   "source": []
  }
 ],
 "metadata": {
  "kernelspec": {
   "display_name": "Python 3 (ipykernel)",
   "language": "python",
   "name": "python3"
  },
  "language_info": {
   "codemirror_mode": {
    "name": "ipython",
    "version": 3
   },
   "file_extension": ".py",
   "mimetype": "text/x-python",
   "name": "python",
   "nbconvert_exporter": "python",
   "pygments_lexer": "ipython3",
   "version": "3.11.7"
  }
 },
 "nbformat": 4,
 "nbformat_minor": 5
}
