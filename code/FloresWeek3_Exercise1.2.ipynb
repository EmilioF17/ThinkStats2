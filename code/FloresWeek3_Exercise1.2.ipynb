{
 "cells": [
  {
   "cell_type": "code",
   "execution_count": null,
   "id": "775472f8-dc6a-45f9-98a4-7f8b6b966c55",
   "metadata": {},
   "outputs": [],
   "source": [
    "# Chapter 1 - Excercise 1.2"
   ]
  },
  {
   "cell_type": "code",
   "execution_count": 41,
   "id": "35ed9857-7552-4162-a950-3c10f12b78da",
   "metadata": {},
   "outputs": [
    {
     "name": "stdout",
     "output_type": "stream",
     "text": [
      "pregnum\n",
      "0     2610\n",
      "2     1432\n",
      "1     1267\n",
      "3     1110\n",
      "4      611\n",
      "5      305\n",
      "6      150\n",
      "7       80\n",
      "8       40\n",
      "9       21\n",
      "10       9\n",
      "11       3\n",
      "12       2\n",
      "14       2\n",
      "19       1\n",
      "Name: count, dtype: int64\n",
      "Validation passed.\n"
     ]
    }
   ],
   "source": [
    "from __future__ import print_function, division\n",
    "\n",
    "import numpy as np\n",
    "import pandas as pd\n",
    "import sys\n",
    "\n",
    "import nsfg\n",
    "import thinkstats2\n",
    "\n",
    "def ReadFemResp(dct_file='2002FemResp.dct', dat_file='2002FemResp.dat.gz', nrows=None):\n",
    "    \"\"\"Reads the NSFG respondent data.\n",
    "\n",
    "    dct_file: string file name\n",
    "    dat_file: string file name\n",
    "\n",
    "    returns: DataFrame\n",
    "    \"\"\"\n",
    "    dct = thinkstats2.ReadStataDct(dct_file)\n",
    "    df = dct.ReadFixedWidth(dat_file, compression='gzip', nrows=nrows)\n",
    "    CleanFemResp(df)\n",
    "    return df\n",
    "\n",
    "def CleanFemResp(df):\n",
    "    \"\"\"Recodes variables from the respondent frame.\n",
    "\n",
    "    df: DataFrame\n",
    "    \"\"\"\n",
    "    pass\n",
    "\n",
    "def ValidatePregnum(resp):\n",
    "    \"\"\"Validate pregnum in the respondent file.\n",
    "\n",
    "    resp: respondent DataFrame\n",
    "    \"\"\"\n",
    "    # read the pregnancy frame\n",
    "    preg = nsfg.ReadFemPreg()\n",
    "\n",
    "    # make the map from caseid to list of pregnancy indices\n",
    "    preg_map = nsfg.MakePregMap(preg)\n",
    "    \n",
    "    # iterate through the respondent pregnum series\n",
    "    for index, pregnum in resp.pregnum.items():\n",
    "        caseid = resp.caseid[index]\n",
    "        indices = preg_map.get(caseid, [])\n",
    "\n",
    "        # check that pregnum from the respondent file equals\n",
    "        # the number of records in the pregnancy file\n",
    "        if len(indices) != pregnum:\n",
    "            print(caseid, len(indices), pregnum)\n",
    "            return False\n",
    "\n",
    "    return True\n",
    "\n",
    "def main():\n",
    "    \"\"\"Tests the functions in this module.\n",
    "    \"\"\"\n",
    "    # Read the respondent data\n",
    "    resp = ReadFemResp()\n",
    "    \n",
    "    # Print the value counts for pregnum\n",
    "    print(resp.pregnum.value_counts())\n",
    "    \n",
    "    # Validate pregnum\n",
    "    valid = ValidatePregnum(resp)\n",
    "    if valid:\n",
    "        print(\"Validation passed.\")\n",
    "    else:\n",
    "        print(\"Validation failed.\")\n",
    "\n",
    "if __name__ == '__main__':\n",
    "    main()\n"
   ]
  },
  {
   "cell_type": "markdown",
   "id": "6f7f5e64-74ae-4fa7-b31d-ee7ee1a4a98f",
   "metadata": {},
   "source": [
    "# Chapter 2 - Exercise 2.1"
   ]
  },
  {
   "cell_type": "code",
   "execution_count": null,
   "id": "f231e59e-6256-408a-820c-675e2e0e9403",
   "metadata": {},
   "outputs": [],
   "source": [
    "'''\n",
    "Do first babies arrive first?\n",
    "\n",
    "After analyzing thousands of data samples from government surveys, we can say confidently \n",
    "that first babies tend to arrive at the same time than other babies (second baby, third baby, etc.).\n",
    "On average, first babies tend to be born after 38.6 weeks of pregnancy, just 0.2% higher than all \n",
    "other babies. Full disclaimer, some babies like to come to this earth \n",
    "'''"
   ]
  }
 ],
 "metadata": {
  "kernelspec": {
   "display_name": "Python 3 (ipykernel)",
   "language": "python",
   "name": "python3"
  },
  "language_info": {
   "codemirror_mode": {
    "name": "ipython",
    "version": 3
   },
   "file_extension": ".py",
   "mimetype": "text/x-python",
   "name": "python",
   "nbconvert_exporter": "python",
   "pygments_lexer": "ipython3",
   "version": "3.11.7"
  }
 },
 "nbformat": 4,
 "nbformat_minor": 5
}
